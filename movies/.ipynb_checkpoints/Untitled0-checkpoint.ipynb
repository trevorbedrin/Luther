{
 "metadata": {
  "name": "",
  "signature": "sha256:c71af50ed8afb8a5655522c428b824ef420a0db09be5f8fd9c412edfc65a195d"
 },
 "nbformat": 3,
 "nbformat_minor": 0,
 "worksheets": []
}